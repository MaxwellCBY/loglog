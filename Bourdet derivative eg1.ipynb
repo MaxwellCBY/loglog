{
 "cells": [
  {
   "cell_type": "code",
   "execution_count": 1,
   "id": "7ce203b1-ac32-4fa4-af0a-239d5abe2a92",
   "metadata": {},
   "outputs": [],
   "source": [
    "import pandas as pd\n",
    "import numpy as np\n",
    "import matplotlib.pyplot as plt\n",
    "%matplotlib inline\n",
    "import os\n",
    "import math\n",
    "import time"
   ]
  },
  {
   "cell_type": "code",
   "execution_count": 2,
   "id": "d70799ca",
   "metadata": {},
   "outputs": [],
   "source": [
    "os.chdir('C:/Users/2925582/OneDrive - Universitetet i Stavanger/PHD/PHD code/Data')"
   ]
  },
  {
   "cell_type": "code",
   "execution_count": 20,
   "id": "7a139765",
   "metadata": {},
   "outputs": [],
   "source": [
    "df0 = pd.read_excel('pt.xlsx',header = 0)\n",
    "df0 = df0.drop(df0.index[[0,1]])\n",
    "df0.columns = ['t', 'p']\n",
    "df0.head()\n",
    "df0['t'] = df0['t'].astype(float)\n",
    "df0['p'] = df0['p'].astype(float)\n",
    "\n",
    "def time_super(df0,period,qn,rate): \n",
    "    df1 = df0[df0['t']>=period]\n",
    "    # reset index\n",
    "    df1 = df1.reset_index(drop=True)\n",
    "    rate = [500,0]\n",
    "    for i in rate:\n",
    "        pro1 = -(rate[i]-0)/qn*np.log10(df1.t.values[1:] - 0)\n",
    "        bui1 = -(rate[i]-rate[i-1])/qn*np.log10(df1.t.values[1:]-period)\n",
    "        t_s = pro1 + bui1\n",
    "    return t_s"
   ]
  },
  {
   "cell_type": "code",
   "execution_count": 3,
   "id": "03485ea4",
   "metadata": {},
   "outputs": [
    {
     "data": {
      "text/html": [
       "<div>\n",
       "<style scoped>\n",
       "    .dataframe tbody tr th:only-of-type {\n",
       "        vertical-align: middle;\n",
       "    }\n",
       "\n",
       "    .dataframe tbody tr th {\n",
       "        vertical-align: top;\n",
       "    }\n",
       "\n",
       "    .dataframe thead th {\n",
       "        text-align: right;\n",
       "    }\n",
       "</style>\n",
       "<table border=\"1\" class=\"dataframe\">\n",
       "  <thead>\n",
       "    <tr style=\"text-align: right;\">\n",
       "      <th></th>\n",
       "      <th>t</th>\n",
       "      <th>p</th>\n",
       "    </tr>\n",
       "  </thead>\n",
       "  <tbody>\n",
       "    <tr>\n",
       "      <th>0</th>\n",
       "      <td>100.0000</td>\n",
       "      <td>4361.005739</td>\n",
       "    </tr>\n",
       "    <tr>\n",
       "      <th>1</th>\n",
       "      <td>100.0002</td>\n",
       "      <td>4361.421745</td>\n",
       "    </tr>\n",
       "    <tr>\n",
       "      <th>2</th>\n",
       "      <td>100.0004</td>\n",
       "      <td>4361.836814</td>\n",
       "    </tr>\n",
       "    <tr>\n",
       "      <th>3</th>\n",
       "      <td>100.0006</td>\n",
       "      <td>4362.251066</td>\n",
       "    </tr>\n",
       "    <tr>\n",
       "      <th>4</th>\n",
       "      <td>100.0008</td>\n",
       "      <td>4362.664553</td>\n",
       "    </tr>\n",
       "  </tbody>\n",
       "</table>\n",
       "</div>"
      ],
      "text/plain": [
       "          t            p\n",
       "0  100.0000  4361.005739\n",
       "1  100.0002  4361.421745\n",
       "2  100.0004  4361.836814\n",
       "3  100.0006  4362.251066\n",
       "4  100.0008  4362.664553"
      ]
     },
     "execution_count": 3,
     "metadata": {},
     "output_type": "execute_result"
    }
   ],
   "source": [
    "df0 = pd.read_excel('pt.xlsx',header = 0)\n",
    "df0 = df0.drop(df0.index[[0,1]])\n",
    "df0.columns = ['t', 'p']\n",
    "df0.head()\n",
    "df0['t'] = df0['t'].astype(float)\n",
    "df0['p'] = df0['p'].astype(float)\n",
    "deltat = 100\n",
    "p0 = 5000\n",
    "\n",
    "df1 = df0[df0['t']>=deltat]\n",
    "# reset index\n",
    "df1 = df1.reset_index(drop=True)\n",
    "df1.head()"
   ]
  },
  {
   "cell_type": "code",
   "execution_count": 4,
   "id": "4cc89ef3",
   "metadata": {},
   "outputs": [],
   "source": [
    "qn = 500\n",
    "bui1 = -(0-500)/qn*np.log10(df1.t.values[1:]-100)\n",
    "pro1 = -(500-0)/qn*np.log10(df1.t.values[1:] - 0)\n",
    "t_s = pro1 + bui1"
   ]
  },
  {
   "cell_type": "code",
   "execution_count": 8,
   "id": "0daa5ddf",
   "metadata": {},
   "outputs": [
    {
     "data": {
      "text/html": [
       "<div>\n",
       "<style scoped>\n",
       "    .dataframe tbody tr th:only-of-type {\n",
       "        vertical-align: middle;\n",
       "    }\n",
       "\n",
       "    .dataframe tbody tr th {\n",
       "        vertical-align: top;\n",
       "    }\n",
       "\n",
       "    .dataframe thead th {\n",
       "        text-align: right;\n",
       "    }\n",
       "</style>\n",
       "<table border=\"1\" class=\"dataframe\">\n",
       "  <thead>\n",
       "    <tr style=\"text-align: right;\">\n",
       "      <th></th>\n",
       "      <th>t</th>\n",
       "      <th>p</th>\n",
       "    </tr>\n",
       "  </thead>\n",
       "  <tbody>\n",
       "    <tr>\n",
       "      <th>2</th>\n",
       "      <td>-5.698971</td>\n",
       "      <td>4361.421745</td>\n",
       "    </tr>\n",
       "  </tbody>\n",
       "</table>\n",
       "</div>"
      ],
      "text/plain": [
       "          t            p\n",
       "2 -5.698971  4361.421745"
      ]
     },
     "execution_count": 8,
     "metadata": {},
     "output_type": "execute_result"
    }
   ],
   "source": [
    "df22 = pd.read_excel('super.xlsx',header = 0)\n",
    "df22 = df22.drop(df22.index[[0,1]]) \n",
    "df22.columns = ['t', 'p']\n",
    "df22.head(1)"
   ]
  },
  {
   "cell_type": "code",
   "execution_count": 21,
   "id": "907f1d00",
   "metadata": {},
   "outputs": [
    {
     "data": {
      "text/plain": [
       "<matplotlib.legend.Legend at 0x24d241feac0>"
      ]
     },
     "execution_count": 21,
     "metadata": {},
     "output_type": "execute_result"
    },
    {
     "data": {
      "image/png": "[encoded data removed]",
      "text/plain": [
       "<Figure size 864x576 with 1 Axes>"
      ]
     },
     "metadata": {
      "needs_background": "light"
     },
     "output_type": "display_data"
    }
   ],
   "source": [
    "# set the figure size\n",
    "plt.figure(figsize=(12, 8))\n",
    "plt.scatter(t_s,df1.p.values[1:], color = 'red', label = 'Maxwell')\n",
    "plt.plot(df22.t.values,df22.p.values, color = 'blue', #legend = 'Saphir'\n",
    "           label = 'Saphir')\n",
    "# x label\n",
    "plt.xlabel('Superposition time')\n",
    "# y label\n",
    "plt.ylabel('Pressure/psi')\n",
    "plt.legend() "
   ]
  },
  {
   "cell_type": "code",
   "execution_count": 5,
   "id": "8c0883da",
   "metadata": {},
   "outputs": [],
   "source": [
    "p = df1.p.values[1:]"
   ]
  },
  {
   "cell_type": "code",
   "execution_count": 7,
   "id": "a4bdf446",
   "metadata": {},
   "outputs": [
    {
     "data": {
      "text/plain": [
       "139"
      ]
     },
     "execution_count": 7,
     "metadata": {},
     "output_type": "execute_result"
    }
   ],
   "source": [
    "len(t_s)"
   ]
  },
  {
   "cell_type": "code",
   "execution_count": 6,
   "id": "afdefd54",
   "metadata": {},
   "outputs": [
    {
     "data": {
      "text/plain": [
       "139"
      ]
     },
     "execution_count": 6,
     "metadata": {},
     "output_type": "execute_result"
    }
   ],
   "source": [
    "# p length\n",
    "len(p)"
   ]
  },
  {
   "cell_type": "code",
   "execution_count": 11,
   "id": "34320c9a",
   "metadata": {},
   "outputs": [],
   "source": [
    "t0 = t_s[0:-2]\n",
    "t1 = t_s[1:-1]\n",
    "t2 = t_s[2:]\n",
    "p0 = p[0:-2]\n",
    "p1 = p[1:-1]\n",
    "p2 = p[2:]"
   ]
  },
  {
   "cell_type": "code",
   "execution_count": 12,
   "id": "10c9af3d",
   "metadata": {},
   "outputs": [],
   "source": [
    "x1 = t1-t0\n",
    "x2 = t2-t1\n",
    "pp1 = p1-p0\n",
    "pp2 = p2-p1\n",
    "der = (pp1/x1*x2 + pp2/x2*x1)/(x1+x2)\n",
    "der = der/np.log(10)\n",
    "# remove the last der\n",
    "der = der[0:-1]"
   ]
  },
  {
   "cell_type": "code",
   "execution_count": 13,
   "id": "60ab59a3",
   "metadata": {},
   "outputs": [],
   "source": [
    "ttt = df1.t.values[1:]-deltat\n",
    "ttt_der = ttt[1:-2] # note the shape of der should be the same as ttt_der\n",
    "ppp = df1.p.values-df1.p.values[0]\n",
    "ppp = ppp[1:]"
   ]
  },
  {
   "cell_type": "code",
   "execution_count": 14,
   "id": "cc5a9d0c",
   "metadata": {},
   "outputs": [
    {
     "data": {
      "text/html": [
       "<div>\n",
       "<style scoped>\n",
       "    .dataframe tbody tr th:only-of-type {\n",
       "        vertical-align: middle;\n",
       "    }\n",
       "\n",
       "    .dataframe tbody tr th {\n",
       "        vertical-align: top;\n",
       "    }\n",
       "\n",
       "    .dataframe thead th {\n",
       "        text-align: right;\n",
       "    }\n",
       "</style>\n",
       "<table border=\"1\" class=\"dataframe\">\n",
       "  <thead>\n",
       "    <tr style=\"text-align: right;\">\n",
       "      <th></th>\n",
       "      <th>t</th>\n",
       "      <th>p</th>\n",
       "      <th>t1</th>\n",
       "      <th>dp</th>\n",
       "    </tr>\n",
       "  </thead>\n",
       "  <tbody>\n",
       "    <tr>\n",
       "      <th>2</th>\n",
       "      <td>0.0002</td>\n",
       "      <td>0.416006</td>\n",
       "      <td>0.0002</td>\n",
       "      <td>0.332025</td>\n",
       "    </tr>\n",
       "    <tr>\n",
       "      <th>3</th>\n",
       "      <td>0.0004</td>\n",
       "      <td>0.831075</td>\n",
       "      <td>0.0004</td>\n",
       "      <td>0.865613</td>\n",
       "    </tr>\n",
       "    <tr>\n",
       "      <th>4</th>\n",
       "      <td>0.0006</td>\n",
       "      <td>1.245327</td>\n",
       "      <td>0.0006</td>\n",
       "      <td>1.264811</td>\n",
       "    </tr>\n",
       "    <tr>\n",
       "      <th>5</th>\n",
       "      <td>0.0008</td>\n",
       "      <td>1.658815</td>\n",
       "      <td>0.0008</td>\n",
       "      <td>1.670165</td>\n",
       "    </tr>\n",
       "    <tr>\n",
       "      <th>6</th>\n",
       "      <td>0.001007</td>\n",
       "      <td>2.086294</td>\n",
       "      <td>0.001007</td>\n",
       "      <td>2.094555</td>\n",
       "    </tr>\n",
       "  </tbody>\n",
       "</table>\n",
       "</div>"
      ],
      "text/plain": [
       "          t         p        t1        dp\n",
       "2    0.0002  0.416006    0.0002  0.332025\n",
       "3    0.0004  0.831075    0.0004  0.865613\n",
       "4    0.0006  1.245327    0.0006  1.264811\n",
       "5    0.0008  1.658815    0.0008  1.670165\n",
       "6  0.001007  2.086294  0.001007  2.094555"
      ]
     },
     "execution_count": 14,
     "metadata": {},
     "output_type": "execute_result"
    }
   ],
   "source": [
    "df5 = pd.read_excel('derx.xlsx',header = 0)\n",
    "# delete row 0 and 1\n",
    "df5 = df5.drop(df5.index[[0,1]])\n",
    "df5.columns = ['t', 'p','t1','dp']\n",
    "df5.head()"
   ]
  },
  {
   "cell_type": "code",
   "execution_count": 15,
   "id": "280de548",
   "metadata": {},
   "outputs": [
    {
     "data": {
      "text/plain": [
       "Text(0.5, 1.0, 'loglog plot of Pressure and derivative')"
      ]
     },
     "execution_count": 15,
     "metadata": {},
     "output_type": "execute_result"
    },
    {
     "data": {
      "image/png": "[encoded data removed]",
      "text/plain": [
       "<Figure size 864x576 with 1 Axes>"
      ]
     },
     "metadata": {
      "needs_background": "light"
     },
     "output_type": "display_data"
    }
   ],
   "source": [
    "# set the figure size\n",
    "plt.figure(figsize=(12, 8))\n",
    "# plot the derivative\n",
    "plt.scatter(ttt_der,der,color = 'red',label = 'Maxwell Derivative')\n",
    "# plot the pressure\n",
    "plt.scatter(ttt,ppp,color = 'red',marker = 'x',label = 'Maxwell Pressure')\n",
    "\n",
    "plt.plot(df5.t.values,df5.p.values,color = 'blue',label = 'Saphir Pressure')\n",
    "plt.plot(df5.t1.values,df5.dp.values,color = 'blue',label = 'Saphir Derivative')\n",
    "#log xscale\n",
    "plt.xscale('log')\n",
    "plt.yscale('log')\n",
    "# x label\n",
    "plt.xlabel('Time/hr')\n",
    "# y label\n",
    "plt.ylabel('Pressure & derivative')\n",
    "plt.legend()\n",
    "# title\n",
    "plt.title('loglog plot of Pressure and derivative')\n"
   ]
  },
  {
   "cell_type": "code",
   "execution_count": 54,
   "id": "bb726d72",
   "metadata": {},
   "outputs": [],
   "source": [
    "L= 0.1\n",
    "# if x1 > L, then x1 = L, else x1 = t1-t0\n",
    "x1s = np.where(x1>L,L,x1)\n",
    "x2s = np.where(x2>L,L,x2)"
   ]
  },
  {
   "cell_type": "code",
   "execution_count": 53,
   "id": "0e3a3ab8",
   "metadata": {},
   "outputs": [
    {
     "data": {
      "text/plain": [
       "<matplotlib.collections.PathCollection at 0x27800947fa0>"
      ]
     },
     "execution_count": 53,
     "metadata": {},
     "output_type": "execute_result"
    },
    {
     "data": {
      "image/png": "[encoded data removed]",
      "text/plain": [
       "<Figure size 432x288 with 1 Axes>"
      ]
     },
     "metadata": {
      "needs_background": "light"
     },
     "output_type": "display_data"
    }
   ],
   "source": [
    "plt.scatter(np.arange(0,len(x1s)),x1s,color ='r',label = 'x1s')\n",
    "plt.scatter(np.arange(0,len(x1)),x1,color = 'b',label = 'x1')"
   ]
  },
  {
   "cell_type": "code",
   "execution_count": 55,
   "id": "7617695b",
   "metadata": {},
   "outputs": [
    {
     "data": {
      "text/plain": [
       "<matplotlib.collections.PathCollection at 0x278009cca60>"
      ]
     },
     "execution_count": 55,
     "metadata": {},
     "output_type": "execute_result"
    },
    {
     "data": {
      "image/png": "[encoded data removed]",
      "text/plain": [
       "<Figure size 432x288 with 1 Axes>"
      ]
     },
     "metadata": {
      "needs_background": "light"
     },
     "output_type": "display_data"
    }
   ],
   "source": [
    "plt.scatter(np.arange(0,len(x2s)),x2s,color ='r',label = 'x2s')\n",
    "plt.scatter(np.arange(0,len(x2)),x2,color = 'b',label = 'x2')"
   ]
  },
  {
   "cell_type": "code",
   "execution_count": 58,
   "id": "25ca6d87",
   "metadata": {},
   "outputs": [
    {
     "data": {
      "text/plain": [
       "-2.3025850929940455"
      ]
     },
     "execution_count": 58,
     "metadata": {},
     "output_type": "execute_result"
    }
   ],
   "source": [
    "np.log(0.1)"
   ]
  },
  {
   "cell_type": "code",
   "execution_count": 60,
   "id": "b1cc421f",
   "metadata": {},
   "outputs": [
    {
     "data": {
      "text/plain": [
       "array([       inf, 0.30102913, 0.17609039, 0.12493787, 0.10003441,\n",
       "       0.0999167 , 0.10001856, 0.10001109, 0.09999457, 0.09999588,\n",
       "       0.10000906, 0.10001152, 0.09999067, 0.09998627, 0.09999038,\n",
       "       0.09999002, 0.09998839, 0.09997671, 0.09998131, 0.09997015,\n",
       "       0.09996392, 0.09995538, 0.09994348, 0.0999277 , 0.0999107 ,\n",
       "       0.09988607, 0.0998582 , 0.09982031, 0.09977473, 0.09971645,\n",
       "       0.09964295, 0.0995512 , 0.09943559, 0.09929057, 0.09910843,\n",
       "       0.09888019, 0.09859436, 0.09823689, 0.09779047, 0.09723424,\n",
       "       0.09654294, 0.09254863, 0.0749278 , 0.06277117, 0.05387876,\n",
       "       0.04709291, 0.04174586, 0.03742526, 0.03386263, 0.03087559,\n",
       "       0.02833595, 0.02615092, 0.02425171, 0.02258621, 0.02111426,\n",
       "       0.01980438, 0.01863155, 0.01757564, 0.01662028, 0.015752  ,\n",
       "       0.01495963, 0.01423383, 0.01356673, 0.01295162, 0.01238282,\n",
       "       0.0118554 , 0.01136512, 0.0109083 , 0.01048173, 0.01008258,\n",
       "       0.00970838, 0.00935692, 0.00902627, 0.00871469, 0.00842064,\n",
       "       0.00814273, 0.00787972, 0.00763048, 0.00739401, 0.00716939,\n",
       "       0.00695579, 0.00675244, 0.00655867, 0.00637383, 0.00619736,\n",
       "       0.00602872, 0.00586743, 0.00571305, 0.00556515, 0.00542336,\n",
       "       0.00528733, 0.00515674, 0.00503127, 0.00491065, 0.00479462,\n",
       "       0.00468294, 0.00457538, 0.00447172, 0.00437178, 0.00427537,\n",
       "       0.00418231, 0.00409245, 0.00400562, 0.0039217 , 0.00384054,\n",
       "       0.00376202, 0.00368602, 0.00361243, 0.00354114, 0.00347206,\n",
       "       0.00340509, 0.00334014, 0.00327712, 0.00321596, 0.00315659,\n",
       "       0.00309892, 0.0030429 , 0.00298845, 0.00293552, 0.00288406,\n",
       "       0.00283399, 0.00278528, 0.00273787, 0.00269171, 0.00264676,\n",
       "       0.00260297, 0.00256031, 0.00251873, 0.00247819, 0.00243867,\n",
       "       0.00240012, 0.00236252, 0.00232582, 0.00229001, 0.00225505,\n",
       "       0.00222091, 0.00108752, 0.00107943])"
      ]
     },
     "execution_count": 60,
     "metadata": {},
     "output_type": "execute_result"
    }
   ],
   "source": [
    "x1"
   ]
  },
  {
   "cell_type": "code",
   "execution_count": 132,
   "id": "20695b17",
   "metadata": {},
   "outputs": [
    {
     "data": {
      "text/plain": [
       "(array([36., 22., 10.,  7.,  4.,  3.,  2.,  2.,  1.,  2.,  1.,  0.,  1.,\n",
       "         1.,  0.,  1.,  0.,  1.,  0.,  0.,  1.,  0.,  0.,  0.,  1.,  0.,\n",
       "         0.,  0.,  0.,  0.,  1.,  1., 36.,  0.,  0.,  0.,  0.,  0.,  0.,\n",
       "         0.,  0.,  1.,  0.,  0.,  0.,  0.,  0.,  0.,  0.,  0.,  0.,  0.,\n",
       "         0.,  0.,  0.,  0.,  0.,  0.,  1.,  0.,  0.,  0.,  0.,  0.,  0.,\n",
       "         0.,  0.,  0.,  0.,  0.,  0.,  0.,  0.,  0.,  0.,  0.,  0.,  0.,\n",
       "         0.,  0.,  0.,  0.,  0.,  0.,  0.,  0.,  0.,  0.,  0.,  0.,  0.,\n",
       "         0.,  0.,  0.,  0.,  0.,  0.,  0.,  0.,  1.]),\n",
       " array([0.00107943, 0.00407893, 0.00707843, 0.01007792, 0.01307742,\n",
       "        0.01607692, 0.01907641, 0.02207591, 0.02507541, 0.0280749 ,\n",
       "        0.0310744 , 0.0340739 , 0.0370734 , 0.04007289, 0.04307239,\n",
       "        0.04607189, 0.04907138, 0.05207088, 0.05507038, 0.05806987,\n",
       "        0.06106937, 0.06406887, 0.06706836, 0.07006786, 0.07306736,\n",
       "        0.07606686, 0.07906635, 0.08206585, 0.08506535, 0.08806484,\n",
       "        0.09106434, 0.09406384, 0.09706333, 0.10006283, 0.10306233,\n",
       "        0.10606183, 0.10906132, 0.11206082, 0.11506032, 0.11805981,\n",
       "        0.12105931, 0.12405881, 0.1270583 , 0.1300578 , 0.1330573 ,\n",
       "        0.13605679, 0.13905629, 0.14205579, 0.14505529, 0.14805478,\n",
       "        0.15105428, 0.15405378, 0.15705327, 0.16005277, 0.16305227,\n",
       "        0.16605176, 0.16905126, 0.17205076, 0.17505026, 0.17804975,\n",
       "        0.18104925, 0.18404875, 0.18704824, 0.19004774, 0.19304724,\n",
       "        0.19604673, 0.19904623, 0.20204573, 0.20504522, 0.20804472,\n",
       "        0.21104422, 0.21404372, 0.21704321, 0.22004271, 0.22304221,\n",
       "        0.2260417 , 0.2290412 , 0.2320407 , 0.23504019, 0.23803969,\n",
       "        0.24103919, 0.24403868, 0.24703818, 0.25003768, 0.25303718,\n",
       "        0.25603667, 0.25903617, 0.26203567, 0.26503516, 0.26803466,\n",
       "        0.27103416, 0.27403365, 0.27703315, 0.28003265, 0.28303215,\n",
       "        0.28603164, 0.28903114, 0.29203064, 0.29503013, 0.29802963,\n",
       "        0.30102913]),\n",
       " <BarContainer object of 100 artists>)"
      ]
     },
     "execution_count": 132,
     "metadata": {},
     "output_type": "execute_result"
    },
    {
     "data": {
      "image/png": "[encoded data removed]",
      "text/plain": [
       "<Figure size 432x288 with 1 Axes>"
      ]
     },
     "metadata": {
      "needs_background": "light"
     },
     "output_type": "display_data"
    }
   ],
   "source": [
    "# histogram of x1\n",
    "plt.hist(x1,bins = 100)"
   ]
  },
  {
   "cell_type": "code",
   "execution_count": 56,
   "id": "11a74467",
   "metadata": {},
   "outputs": [],
   "source": [
    "L = 0.1\n",
    "\n",
    "x1s = np.where(x1>L,np.log(L),x1)\n",
    "x2s = np.where(x2>L,np.log(L),x2)\n",
    "pp1 = p1-p0\n",
    "pp2 = p2-p1\n",
    "der = (pp1/x1s*x2s + pp2/x2s*x1s)/(x1s+x2s)\n",
    "der = der/np.log(10)"
   ]
  },
  {
   "cell_type": "code",
   "execution_count": 133,
   "id": "64fba0a1",
   "metadata": {},
   "outputs": [
    {
     "data": {
      "text/plain": [
       "Text(0.5, 1.0, 'Pressure and derivative with smoothing')"
      ]
     },
     "execution_count": 133,
     "metadata": {},
     "output_type": "execute_result"
    },
    {
     "data": {
      "image/png": "[encoded data removed]",
      "text/plain": [
       "<Figure size 864x576 with 1 Axes>"
      ]
     },
     "metadata": {
      "needs_background": "light"
     },
     "output_type": "display_data"
    }
   ],
   "source": [
    "# set the figure size\n",
    "plt.figure(figsize=(12, 8))\n",
    "# plot the derivative\n",
    "plt.scatter(ttt_der,der,color = 'red',label = 'Maxwell Derivative')\n",
    "# plot the pressure\n",
    "plt.scatter(ttt,ppp,color = 'red',marker = 'x',label = 'Maxwell Pressure')\n",
    "\n",
    "plt.plot(df5.t.values,df5.p.values,color = 'blue',label = 'Saphir Pressure')\n",
    "plt.plot(df5.t1.values,df5.dp.values,color = 'blue',label = 'Saphir Derivative')\n",
    "#log xscale\n",
    "plt.xscale('log')\n",
    "plt.yscale('log')\n",
    "# x label\n",
    "plt.xlabel('Time/hr')\n",
    "# y label\n",
    "plt.ylabel('Pressure & derivative')\n",
    "plt.legend()\n",
    "# title\n",
    "plt.title('Pressure and derivative with smoothing')"
   ]
  },
  {
   "cell_type": "code",
   "execution_count": 52,
   "id": "ad6a7052",
   "metadata": {},
   "outputs": [],
   "source": [
    "t0 = df5['t'].iloc[0:-2].values\n",
    "t1 = df5['t'].iloc[1:-1].values\n",
    "t2 = df5['t'].iloc[2:].values\n",
    "p0 = df5['p'].iloc[0:-2].values\n",
    "p1 = df5['p'].iloc[1:-1].values\n",
    "p2 = df5['p'].iloc[2:].values\n",
    "\n",
    "L = 0.1\n",
    "\n",
    "der_list = []\n",
    "\n",
    "for i in range(len(t0)):\n",
    "    w1 = np.log(t1[i])-np.log(t0[i]) \n",
    "    w2 = np.log(t2[i])-np.log(t1[i])\n",
    "\n",
    "    if (w1>L) & (w2>L):\n",
    "        w1 = L\n",
    "        w2 = L\n",
    "        w3 = w1+w2\n",
    "        der = (p1[i]-p0[i])/w1*w2/w3 + (p2[i]-p1[i])/w2*w1/w3 \n",
    "    elif (w1>L) & (w2<L):\n",
    "        w2 = np.abs(np.log(L))\n",
    "        w3 = w1+w2\n",
    "        der = (p1[i]-p0[i])/w1*w2/w3 + (p2[i]-p1[i])/w2*w1/w3 \n",
    "    elif (w1<L) & (w2>L):\n",
    "        w1 = np.abs(np.log(L))\n",
    "        w3 = w1+w2\n",
    "        der = (p1[i]-p0[i])/w1*w2/w3 + (p2[i]-p1[i])/w2*w1/w3 \n",
    "    else:\n",
    "        w1 = np.abs(np.log(L))\n",
    "        w2 = np.abs(np.log(L))\n",
    "        w3 = w1+w2\n",
    "        der = (p1[i]-p0[i])/w1*w2/w3 + (p2[i]-p1[i])/w2*w1/w3 \n",
    "    der_list.append(der)\n",
    "\n",
    "    \n",
    "\n",
    "# change der_list to array\n",
    "der_list = np.array(der_list)"
   ]
  }
 ],
 "metadata": {
  "kernelspec": {
   "display_name": "Python 3.9.12 ('base')",
   "language": "python",
   "name": "python3"
  },
  "language_info": {
   "codemirror_mode": {
    "name": "ipython",
    "version": 3
   },
   "file_extension": ".py",
   "mimetype": "text/x-python",
   "name": "python",
   "nbconvert_exporter": "python",
   "pygments_lexer": "ipython3",
   "version": "3.9.12 (main, Apr  4 2022, 05:22:27) [MSC v.1916 64 bit (AMD64)]"
  },
  "toc-autonumbering": false,
  "toc-showcode": false,
  "toc-showmarkdowntxt": false,
  "vscode": {
   "interpreter": {
    "hash": "9105ead31878a8b2c7190db566ef601514ce4dfc6c8843866233be76df88c6ff"
   }
  }
 },
 "nbformat": 4,
 "nbformat_minor": 5
}
